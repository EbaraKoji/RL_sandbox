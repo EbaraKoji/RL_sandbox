{
  "cells": [
    {
      "cell_type": "markdown",
      "metadata": {
        "id": "view-in-github",
        "colab_type": "text"
      },
      "source": [
        "<a href=\"https://colab.research.google.com/github/EbaraKoji/RL_sandbox/blob/master/q_learning_frozen_lake.ipynb\" target=\"_parent\"><img src=\"https://colab.research.google.com/assets/colab-badge.svg\" alt=\"Open In Colab\"/></a>"
      ]
    },
    {
      "cell_type": "code",
      "execution_count": 1,
      "id": "c4023d1a-ca7d-4704-a3be-295ddc832ad1",
      "metadata": {
        "id": "c4023d1a-ca7d-4704-a3be-295ddc832ad1"
      },
      "outputs": [],
      "source": [
        "import numpy as np\n",
        "import gym\n",
        "import matplotlib.pyplot as plt"
      ]
    },
    {
      "cell_type": "code",
      "execution_count": 2,
      "id": "85bde64c-4694-42c7-8eb5-e661072d5c4a",
      "metadata": {
        "id": "85bde64c-4694-42c7-8eb5-e661072d5c4a"
      },
      "outputs": [],
      "source": [
        "ENV_NAME = \"FrozenLake-v0\"\n",
        "env = gym.make(ENV_NAME)"
      ]
    },
    {
      "cell_type": "code",
      "execution_count": 3,
      "id": "4439fda9-de46-4ab3-9522-538e8854a2ce",
      "metadata": {
        "colab": {
          "base_uri": "https://localhost:8080/"
        },
        "id": "4439fda9-de46-4ab3-9522-538e8854a2ce",
        "outputId": "23c7ed4b-057b-45a3-8555-ba1a3e3908f2"
      },
      "outputs": [
        {
          "output_type": "stream",
          "name": "stdout",
          "text": [
            "0\n"
          ]
        }
      ],
      "source": [
        "obs = env.reset()\n",
        "print(obs)"
      ]
    },
    {
      "cell_type": "code",
      "execution_count": 4,
      "id": "adc669ee-e081-49f9-af35-6dc9129b03f9",
      "metadata": {
        "colab": {
          "base_uri": "https://localhost:8080/"
        },
        "id": "adc669ee-e081-49f9-af35-6dc9129b03f9",
        "outputId": "03a16cb8-7f9b-46f7-b76d-0499b233e48a"
      },
      "outputs": [
        {
          "output_type": "stream",
          "name": "stdout",
          "text": [
            "0 0.0 False {'prob': 0.3333333333333333}\n"
          ]
        }
      ],
      "source": [
        "obs, reward, done, info = env.step(1)\n",
        "print(obs, reward, done, info)"
      ]
    },
    {
      "cell_type": "code",
      "execution_count": 5,
      "id": "9fca98e0-8036-4865-b2ea-4818a17d0e06",
      "metadata": {
        "colab": {
          "base_uri": "https://localhost:8080/"
        },
        "id": "9fca98e0-8036-4865-b2ea-4818a17d0e06",
        "outputId": "7cbb0d46-bdcf-4347-abe2-2ac570092b0c"
      },
      "outputs": [
        {
          "output_type": "stream",
          "name": "stdout",
          "text": [
            "0 0.0 False {'prob': 0.3333333333333333}\n",
            "1 0.0 False {'prob': 0.3333333333333333}\n",
            "2 0.0 False {'prob': 0.3333333333333333}\n",
            "1 0.0 False {'prob': 0.3333333333333333}\n",
            "5 0.0 True {'prob': 0.3333333333333333}\n"
          ]
        }
      ],
      "source": [
        "while done is False:\n",
        "    obs, reward, done, info = env.step(1)\n",
        "    print(obs, reward, done, info)"
      ]
    },
    {
      "cell_type": "code",
      "execution_count": 6,
      "id": "89a45a13-873b-4c50-b6b1-b77d4b087f71",
      "metadata": {
        "collapsed": true,
        "jupyter": {
          "outputs_hidden": true
        },
        "tags": [],
        "colab": {
          "base_uri": "https://localhost:8080/"
        },
        "id": "89a45a13-873b-4c50-b6b1-b77d4b087f71",
        "outputId": "7021794c-7cb6-42ca-98b7-78365fe2cad1"
      },
      "outputs": [
        {
          "output_type": "stream",
          "name": "stdout",
          "text": [
            "  (Down)\n",
            "SFFF\n",
            "F\u001b[41mH\u001b[0mFH\n",
            "FFFH\n",
            "HFFG\n"
          ]
        }
      ],
      "source": [
        "env.render()"
      ]
    },
    {
      "cell_type": "code",
      "execution_count": 7,
      "id": "ccc61bea-2ad7-47c2-b1c3-dc71c240f790",
      "metadata": {
        "tags": [],
        "colab": {
          "base_uri": "https://localhost:8080/"
        },
        "id": "ccc61bea-2ad7-47c2-b1c3-dc71c240f790",
        "outputId": "3bfe40d9-a110-45aa-ba80-2e5ec3c6e240"
      },
      "outputs": [
        {
          "output_type": "stream",
          "name": "stdout",
          "text": [
            "  (Down)\n",
            "SFFF\n",
            "\u001b[41mF\u001b[0mHFH\n",
            "FFFH\n",
            "HFFG\n",
            "4 0.0 False {'prob': 0.3333333333333333}\n",
            "\n",
            "\n",
            "  (Down)\n",
            "SFFF\n",
            "F\u001b[41mH\u001b[0mFH\n",
            "FFFH\n",
            "HFFG\n",
            "5 0.0 True {'prob': 0.3333333333333333}\n",
            "\n",
            "\n"
          ]
        }
      ],
      "source": [
        "obs = env.reset()\n",
        "done = False\n",
        "while done is False:\n",
        "    obs, reward, done, info = env.step(1)\n",
        "    env.render()\n",
        "    print(obs, reward, done, info)\n",
        "    print('\\n')"
      ]
    },
    {
      "cell_type": "code",
      "execution_count": 8,
      "id": "af46ee67-0dac-46a8-a504-c86074bd9aeb",
      "metadata": {
        "id": "af46ee67-0dac-46a8-a504-c86074bd9aeb"
      },
      "outputs": [],
      "source": [
        "class QTable():\n",
        "    def __init__(self, row, col, initial_table=None):\n",
        "        self.obs_count = row\n",
        "        self.action_acount = col\n",
        "        self.table = np.zeros((row, col)) if initial_table is None else initial_table\n",
        "    \n",
        "    def get_action(self, obs, epsilon=0):\n",
        "        if np.random.rand() < epsilon:\n",
        "            return np.random.randint(self.action_acount)\n",
        "        else:\n",
        "            return np.argmax(self.table[obs])\n",
        "    \n",
        "    def get_max_q_value(self, obs):\n",
        "        return np.max(self.table[obs])\n",
        "    \n",
        "    def update_q_value(self, obs, action, reward, next_obs, done, gamma, alpha):\n",
        "        old_q = self.table[obs, action]\n",
        "        target_q = reward + gamma * self.get_max_q_value(next_obs) * int(not done)\n",
        "        delta_q = target_q - old_q\n",
        "        new_q = old_q + alpha * delta_q\n",
        "        \n",
        "        self.table[obs, action] = new_q"
      ]
    },
    {
      "cell_type": "code",
      "execution_count": 9,
      "id": "1d8d1705-bf0e-4fb5-b061-909d96433aa8",
      "metadata": {
        "tags": [],
        "id": "1d8d1705-bf0e-4fb5-b061-909d96433aa8"
      },
      "outputs": [],
      "source": [
        "MAZE_SIZE = 8  # 4 or 8\n",
        "OBS_COUNT = MAZE_SIZE ** 2\n",
        "ACTION_COUNT = 4\n",
        "MAP_NAME = f\"{MAZE_SIZE}x{MAZE_SIZE}\"\n",
        "\n",
        "env = gym.make(ENV_NAME, map_name=MAP_NAME, is_slippery=True)\n",
        "\n",
        "ALPHA = 0.1\n",
        "GAMMA = 0.99\n",
        "EPSILON_MAX = 0.99\n",
        "EPSILON_MIN = 0.01\n",
        "EPSILON_DECAY = 0.99\n",
        "EPISODE_COUNT = 30000\n",
        "\n",
        "initial_table = np.ones((OBS_COUNT, ACTION_COUNT))\n",
        "q_table = QTable(row=OBS_COUNT, col=ACTION_COUNT, initial_table=initial_table)"
      ]
    },
    {
      "cell_type": "code",
      "execution_count": 10,
      "id": "7551ea20-b50b-4f49-a5e5-2e58f49c992f",
      "metadata": {
        "collapsed": true,
        "jupyter": {
          "outputs_hidden": true
        },
        "tags": [],
        "colab": {
          "base_uri": "https://localhost:8080/"
        },
        "id": "7551ea20-b50b-4f49-a5e5-2e58f49c992f",
        "outputId": "1e32c885-7fcb-43ab-ef7f-1c8a42bdba81"
      },
      "outputs": [
        {
          "output_type": "stream",
          "name": "stdout",
          "text": [
            "[[0.192 0.212 0.208 0.209]\n",
            " [0.216 0.216 0.217 0.191]\n",
            " [0.22  0.194 0.199 0.223]\n",
            " [0.212 0.214 0.238 0.231]\n",
            " [0.249 0.238 0.249 0.236]\n",
            " [0.249 0.254 0.234 0.256]\n",
            " [0.264 0.248 0.23  0.236]\n",
            " [0.277 0.277 0.28  0.277]\n",
            " [0.175 0.182 0.191 0.21 ]\n",
            " [0.19  0.195 0.185 0.215]\n",
            " [0.186 0.195 0.196 0.224]\n",
            " [0.156 0.205 0.142 0.213]\n",
            " [0.21  0.223 0.241 0.245]\n",
            " [0.239 0.242 0.259 0.23 ]\n",
            " [0.276 0.282 0.272 0.276]\n",
            " [0.276 0.267 0.303 0.282]\n",
            " [0.188 0.145 0.14  0.133]\n",
            " [0.186 0.149 0.149 0.145]\n",
            " [0.174 0.104 0.129 0.131]\n",
            " [1.    1.    1.    1.   ]\n",
            " [0.167 0.156 0.175 0.179]\n",
            " [0.136 0.198 0.126 0.258]\n",
            " [0.274 0.282 0.305 0.287]\n",
            " [0.28  0.31  0.34  0.276]\n",
            " [0.14  0.14  0.146 0.135]\n",
            " [0.132 0.124 0.13  0.158]\n",
            " [0.099 0.11  0.099 0.13 ]\n",
            " [0.042 0.052 0.042 0.093]\n",
            " [0.136 0.098 0.124 0.081]\n",
            " [1.    1.    1.    1.   ]\n",
            " [0.215 0.281 0.317 0.274]\n",
            " [0.353 0.381 0.353 0.352]\n",
            " [0.113 0.112 0.113 0.119]\n",
            " [0.084 0.085 0.079 0.115]\n",
            " [0.087 0.041 0.04  0.037]\n",
            " [1.    1.    1.    1.   ]\n",
            " [0.101 0.117 0.146 0.094]\n",
            " [0.104 0.214 0.15  0.175]\n",
            " [0.164 0.183 0.258 0.329]\n",
            " [0.398 0.397 0.462 0.393]\n",
            " [0.109 0.093 0.095 0.077]\n",
            " [1.    1.    1.    1.   ]\n",
            " [1.    1.    1.    1.   ]\n",
            " [0.016 0.017 0.055 0.029]\n",
            " [0.06  0.094 0.08  0.103]\n",
            " [0.152 0.102 0.125 0.106]\n",
            " [1.    1.    1.    1.   ]\n",
            " [0.414 0.459 0.596 0.288]\n",
            " [0.094 0.073 0.086 0.086]\n",
            " [1.    1.    1.    1.   ]\n",
            " [0.012 0.019 0.011 0.011]\n",
            " [0.022 0.011 0.01  0.011]\n",
            " [1.    1.    1.    1.   ]\n",
            " [0.099 0.101 0.154 0.063]\n",
            " [1.    1.    1.    1.   ]\n",
            " [0.529 0.508 0.775 0.522]\n",
            " [0.076 0.078 0.075 0.078]\n",
            " [0.059 0.062 0.064 0.063]\n",
            " [0.039 0.039 0.04  0.038]\n",
            " [1.    1.    1.    1.   ]\n",
            " [0.099 0.084 0.129 0.102]\n",
            " [0.282 0.306 0.429 0.336]\n",
            " [0.543 0.614 0.514 0.48 ]\n",
            " [1.    1.    1.    1.   ]]\n"
          ]
        }
      ],
      "source": [
        "epsilon = EPSILON_MAX\n",
        "\n",
        "episode_rewards = []\n",
        "MEAN_COUNT = 100\n",
        "mean_rewards = np.array([])\n",
        "\n",
        "for _ in range(EPISODE_COUNT):\n",
        "    obs = env.reset()\n",
        "    done = False\n",
        "    total_reward = 0\n",
        "    \n",
        "    while done is False:\n",
        "        last_obs = obs\n",
        "        \n",
        "        action = q_table.get_action(obs, epsilon)\n",
        "        obs, reward, done, _ = env.step(action)\n",
        "        \n",
        "        q_table.update_q_value(last_obs, action, reward, obs, done, GAMMA, ALPHA)\n",
        "        \n",
        "        epsilon = max(epsilon * EPSILON_DECAY, EPSILON_MIN)\n",
        "        total_reward += reward\n",
        "        \n",
        "    episode_rewards.append(total_reward)\n",
        "    if len(episode_rewards) > MEAN_COUNT:\n",
        "        mean_rewards = np.append(mean_rewards, np.mean(episode_rewards[:-MEAN_COUNT]))\n",
        "\n",
        "np.set_printoptions(precision=3,suppress=True)\n",
        "print(q_table.table)"
      ]
    },
    {
      "cell_type": "code",
      "execution_count": 11,
      "id": "c5eed1c4-e6ee-4a26-9a7f-5cc33a448145",
      "metadata": {
        "tags": [],
        "colab": {
          "base_uri": "https://localhost:8080/"
        },
        "id": "c5eed1c4-e6ee-4a26-9a7f-5cc33a448145",
        "outputId": "eb8a3c71-c70b-4275-894e-d0ed474e922b"
      },
      "outputs": [
        {
          "output_type": "stream",
          "name": "stdout",
          "text": [
            "[['↓' '→' '↑' '→' '←' '↑' '←' '→']\n",
            " ['↑' '↑' '↑' '↑' '↑' '→' '↓' '→']\n",
            " ['←' '←' '←' '←' '↑' '↑' '→' '→']\n",
            " ['→' '↑' '↑' '↑' '←' '←' '→' '↓']\n",
            " ['↑' '↑' '←' '←' '→' '↓' '↑' '→']\n",
            " ['←' '←' '←' '→' '↑' '←' '←' '→']\n",
            " ['←' '←' '↓' '←' '←' '→' '←' '→']\n",
            " ['↑' '→' '→' '←' '→' '→' '↓' '←']]\n",
            "  (Right)\n",
            "SFFFFFFF\n",
            "FFFFFFFF\n",
            "FFFHFFFF\n",
            "FFFFFHFF\n",
            "FFFHFFFF\n",
            "FHHFFFHF\n",
            "FHFFHFHF\n",
            "FFFHFFF\u001b[41mG\u001b[0m\n"
          ]
        }
      ],
      "source": [
        "arrows = ['←', '↓', '→', '↑']\n",
        "np.argmax(q_table.table, axis=1)\n",
        "q_arrows = np.reshape(\n",
        "    [arrows[index] for index in np.argmax(q_table.table, axis=1)], \n",
        "    (MAZE_SIZE, MAZE_SIZE))\n",
        "print(q_arrows)\n",
        "env.render()"
      ]
    },
    {
      "cell_type": "code",
      "execution_count": 12,
      "id": "fb9ba160-bda2-4ae8-a0db-cedfc880aa88",
      "metadata": {
        "colab": {
          "base_uri": "https://localhost:8080/",
          "height": 287
        },
        "id": "fb9ba160-bda2-4ae8-a0db-cedfc880aa88",
        "outputId": "460b2bc0-48db-4ea7-8878-56220e185781"
      },
      "outputs": [
        {
          "output_type": "execute_result",
          "data": {
            "text/plain": [
              "[<matplotlib.lines.Line2D at 0x7f5f40a1c990>]"
            ]
          },
          "metadata": {},
          "execution_count": 12
        },
        {
          "output_type": "display_data",
          "data": {
            "text/plain": [
              "<Figure size 432x288 with 1 Axes>"
            ],
            "image/png": "[encoded data removed]"
          },
          "metadata": {
            "needs_background": "light"
          }
        }
      ],
      "source": [
        "plt.plot(range(EPISODE_COUNT - MEAN_COUNT), mean_rewards)"
      ]
    }
  ],
  "metadata": {
    "kernelspec": {
      "display_name": "Python 3 (ipykernel)",
      "language": "python",
      "name": "python3"
    },
    "language_info": {
      "codemirror_mode": {
        "name": "ipython",
        "version": 3
      },
      "file_extension": ".py",
      "mimetype": "text/x-python",
      "name": "python",
      "nbconvert_exporter": "python",
      "pygments_lexer": "ipython3",
      "version": "3.8.12"
    },
    "colab": {
      "name": "q_learning_frozen_lake.ipynb",
      "provenance": [],
      "include_colab_link": true
    }
  },
  "nbformat": 4,
  "nbformat_minor": 5
}